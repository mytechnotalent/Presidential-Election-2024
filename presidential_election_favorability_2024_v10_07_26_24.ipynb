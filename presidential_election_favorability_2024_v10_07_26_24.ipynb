{
 "cells": [
  {
   "cell_type": "markdown",
   "id": "f928c06f",
   "metadata": {
    "papermill": {
     "duration": 0.006345,
     "end_time": "2024-07-07T00:38:08.230537",
     "exception": false,
     "start_time": "2024-07-07T00:38:08.224192",
     "status": "completed"
    },
    "tags": []
   },
   "source": [
    "# Presidential Election Favorability 2024 "
   ]
  },
  {
   "cell_type": "markdown",
   "id": "3e7056b9",
   "metadata": {
    "papermill": {
     "duration": 0.005746,
     "end_time": "2024-07-07T00:38:08.242542",
     "exception": false,
     "start_time": "2024-07-07T00:38:08.236796",
     "status": "completed"
    },
    "tags": []
   },
   "source": [
    "## Overview\n",
    "This notebook uses classification modeling to predict the likelihood of the next President being Kamala Harris or Donald Trump based on current favorability ratings.\n",
    "\n",
    "## Objectives\n",
    "- Predict whether the politician is Kamala Harris or Donald Trump.\n",
    "- Calculate the accuracy of the model.\n",
    "- Visualize the results using `matplotlib`.\n",
    "\n",
    "## Tools Used\n",
    "- numpy\n",
    "- pandas\n",
    "- scikit-learn\n",
    "- tensorflow\n",
    "- imblearn\n",
    "- matplotlib\n",
    "\n",
    "## Dataset\n",
    "This dataset provides detailed favorability ratings for both candidates. For this analysis, we focus on the following.\n",
    "- Politician (Kamala Harris or Donald Trump)\n",
    "- Favorability\n",
    "\n",
    "## Model\n",
    "We will use the following models for this task.\n",
    "- TensorFlow Sequential\n",
    "\n",
    "## Credits\n",
    "**Dataset Author:**\n",
    "* FiveThirtyEight\n",
    "\n",
    "**Model Author:**  \n",
    "* Kevin Thomas\n",
    "\n",
    "**Date:**  \n",
    "* 07-26-24  \n",
    "\n",
    "**Version:**  \n",
    "* 1.0"
   ]
  },
  {
   "cell_type": "code",
   "execution_count": 1,
   "id": "d4e1e338",
   "metadata": {},
   "outputs": [],
   "source": [
    "import requests\n",
    "import zipfile\n",
    "import numpy as np\n",
    "import pandas as pd\n",
    "from sklearn.model_selection import train_test_split\n",
    "from sklearn.preprocessing import StandardScaler, OneHotEncoder\n",
    "from sklearn.utils import resample\n",
    "from sklearn.utils.class_weight import compute_class_weight\n",
    "import tensorflow as tf\n",
    "from tensorflow.keras.models import Sequential # type: ignore\n",
    "from tensorflow.keras.layers import Dense, Input, LeakyReLU # type: ignore\n",
    "from imblearn.over_sampling import SMOTE\n",
    "import matplotlib.pyplot as plt"
   ]
  },
  {
   "cell_type": "markdown",
   "id": "6996c093",
   "metadata": {},
   "source": [
    "## Step 1: Data Preparation"
   ]
  },
  {
   "cell_type": "code",
   "execution_count": 2,
   "id": "b649a971",
   "metadata": {},
   "outputs": [
    {
     "name": "stdout",
     "output_type": "stream",
     "text": [
      "Download completed: archive.zip\n",
      "Unzipping completed\n"
     ]
    }
   ],
   "source": [
    "# Download and extract the dataset\n",
    "url = 'https://www.kaggle.com/api/v1/datasets/download/mytechnotalent/favorability-polls-07-26-24?datasetVersionNumber=1'\n",
    "local_filename = 'archive.zip'\n",
    "response = requests.get(url, stream=True)\n",
    "if response.status_code == 200:\n",
    "    with open(local_filename, 'wb') as f:\n",
    "        for chunk in response.iter_content(chunk_size=8192):\n",
    "            f.write(chunk)\n",
    "    print(f'Download completed: {local_filename}')\n",
    "else:\n",
    "    print(f'Failed to download the file. Status code: {response.status_code}')\n",
    "if response.status_code == 200:\n",
    "    with zipfile.ZipFile(local_filename, 'r') as zip_ref:\n",
    "        zip_ref.extractall('.')\n",
    "    print('Unzipping completed')\n",
    "else:\n",
    "    print('Skipping unzipping due to download failure')\n",
    "\n",
    "# Load the dataset\n",
    "data = pd.read_csv('favorability_polls_07-26-24.csv')\n",
    "\n",
    "# Filter the dataset to include only Kamala Harris and Donald Trump\n",
    "filtered_data = data[(data['politician'] == 'Kamala Harris') | (data['politician'] == 'Donald Trump')]\n",
    "\n",
    "# Fill NaN values with the mean of the column in a new DataFrame\n",
    "filtered_data = filtered_data.copy()  # Create a copy of the DataFrame to avoid chained assignment\n",
    "filtered_data['favorable'] = filtered_data['favorable'].fillna(filtered_data['favorable'].mean())\n",
    "filtered_data['unfavorable'] = filtered_data['unfavorable'].fillna(filtered_data['unfavorable'].mean())\n",
    "\n",
    "# Separate the majority and minority classes\n",
    "harris_data = filtered_data[filtered_data['politician'] == 'Kamala Harris']\n",
    "trump_data = filtered_data[filtered_data['politician'] == 'Donald Trump']\n",
    "\n",
    "# Ensure equal number of samples for both candidates\n",
    "min_samples = min(harris_data.shape[0], trump_data.shape[0])\n",
    "harris_resampled = resample(harris_data, replace=False, n_samples=min_samples, random_state=42)\n",
    "trump_resampled = resample(trump_data, replace=False, n_samples=min_samples, random_state=42)\n",
    "\n",
    "# Combine the resampled datasets\n",
    "balanced_data = pd.concat([harris_resampled, trump_resampled])\n",
    "\n",
    "# Shuffle the dataset\n",
    "balanced_data = balanced_data.sample(frac=1, random_state=42)\n",
    "\n",
    "# Prepare data for modeling\n",
    "X_balanced = balanced_data[['favorable']].values\n",
    "y_balanced = balanced_data['politician'].values"
   ]
  },
  {
   "cell_type": "markdown",
   "id": "40c3c887",
   "metadata": {},
   "source": [
    "## Step 2: Feature Engineering"
   ]
  },
  {
   "cell_type": "code",
   "execution_count": 3,
   "id": "dc99b302",
   "metadata": {},
   "outputs": [
    {
     "name": "stdout",
     "output_type": "stream",
     "text": [
      "Class weights: {0: 1.0, 1: 1.0}\n"
     ]
    }
   ],
   "source": [
    "# One-hot encode the politician column\n",
    "encoder = OneHotEncoder(sparse_output=False)\n",
    "y_balanced_encoded = encoder.fit_transform(balanced_data[['politician']])\n",
    "\n",
    "# Split data into training and testing sets\n",
    "X_train_balanced, X_test_balanced, y_train_balanced, y_test_balanced = train_test_split(X_balanced, y_balanced_encoded, test_size=0.2, random_state=42)\n",
    "\n",
    "# Normalize the data\n",
    "scaler = StandardScaler()\n",
    "X_train_balanced_scaled = scaler.fit_transform(X_train_balanced)\n",
    "X_test_balanced_scaled = scaler.transform(X_test_balanced)\n",
    "\n",
    "# Calculate class weights to address imbalance\n",
    "class_weights = compute_class_weight(\n",
    "    class_weight='balanced',\n",
    "    classes=np.unique(np.argmax(y_balanced_encoded, axis=1)),\n",
    "    y=np.argmax(y_balanced_encoded, axis=1)\n",
    ")\n",
    "class_weight_dict = dict(enumerate(class_weights))\n",
    "\n",
    "# Print class weights\n",
    "print(\"Class weights:\", class_weight_dict)"
   ]
  },
  {
   "cell_type": "markdown",
   "id": "109be763",
   "metadata": {},
   "source": [
    "## Step 3: Modeling"
   ]
  },
  {
   "cell_type": "code",
   "execution_count": 4,
   "id": "47a478b8",
   "metadata": {},
   "outputs": [
    {
     "name": "stdout",
     "output_type": "stream",
     "text": [
      "Epoch 1/50\n"
     ]
    },
    {
     "name": "stderr",
     "output_type": "stream",
     "text": [
      "/Users/kevinthomas/Documents/nbconvert/venv/lib/python3.11/site-packages/keras/src/layers/activations/leaky_relu.py:41: UserWarning: Argument `alpha` is deprecated. Use `negative_slope` instead.\n",
      "  warnings.warn(\n"
     ]
    },
    {
     "name": "stdout",
     "output_type": "stream",
     "text": [
      "\u001b[1m40/40\u001b[0m \u001b[32m━━━━━━━━━━━━━━━━━━━━\u001b[0m\u001b[37m\u001b[0m \u001b[1m0s\u001b[0m 2ms/step - accuracy: 0.5183 - loss: 0.6905 - val_accuracy: 0.5815 - val_loss: 0.6849\n",
      "Epoch 2/50\n",
      "\u001b[1m40/40\u001b[0m \u001b[32m━━━━━━━━━━━━━━━━━━━━\u001b[0m\u001b[37m\u001b[0m \u001b[1m0s\u001b[0m 524us/step - accuracy: 0.5435 - loss: 0.6871 - val_accuracy: 0.6070 - val_loss: 0.6845\n",
      "Epoch 3/50\n",
      "\u001b[1m40/40\u001b[0m \u001b[32m━━━━━━━━━━━━━━━━━━━━\u001b[0m\u001b[37m\u001b[0m \u001b[1m0s\u001b[0m 493us/step - accuracy: 0.5701 - loss: 0.6870 - val_accuracy: 0.6038 - val_loss: 0.6821\n",
      "Epoch 4/50\n",
      "\u001b[1m40/40\u001b[0m \u001b[32m━━━━━━━━━━━━━━━━━━━━\u001b[0m\u001b[37m\u001b[0m \u001b[1m0s\u001b[0m 496us/step - accuracy: 0.5475 - loss: 0.6876 - val_accuracy: 0.5911 - val_loss: 0.6812\n",
      "Epoch 5/50\n",
      "\u001b[1m40/40\u001b[0m \u001b[32m━━━━━━━━━━━━━━━━━━━━\u001b[0m\u001b[37m\u001b[0m \u001b[1m0s\u001b[0m 463us/step - accuracy: 0.5889 - loss: 0.6844 - val_accuracy: 0.6006 - val_loss: 0.6802\n",
      "Epoch 6/50\n",
      "\u001b[1m40/40\u001b[0m \u001b[32m━━━━━━━━━━━━━━━━━━━━\u001b[0m\u001b[37m\u001b[0m \u001b[1m0s\u001b[0m 477us/step - accuracy: 0.5827 - loss: 0.6831 - val_accuracy: 0.6070 - val_loss: 0.6778\n",
      "Epoch 7/50\n",
      "\u001b[1m40/40\u001b[0m \u001b[32m━━━━━━━━━━━━━━━━━━━━\u001b[0m\u001b[37m\u001b[0m \u001b[1m0s\u001b[0m 494us/step - accuracy: 0.5795 - loss: 0.6804 - val_accuracy: 0.6006 - val_loss: 0.6769\n",
      "Epoch 8/50\n",
      "\u001b[1m40/40\u001b[0m \u001b[32m━━━━━━━━━━━━━━━━━━━━\u001b[0m\u001b[37m\u001b[0m \u001b[1m0s\u001b[0m 483us/step - accuracy: 0.5779 - loss: 0.6827 - val_accuracy: 0.6006 - val_loss: 0.6761\n",
      "Epoch 9/50\n",
      "\u001b[1m40/40\u001b[0m \u001b[32m━━━━━━━━━━━━━━━━━━━━\u001b[0m\u001b[37m\u001b[0m \u001b[1m0s\u001b[0m 486us/step - accuracy: 0.5741 - loss: 0.6853 - val_accuracy: 0.6006 - val_loss: 0.6756\n",
      "Epoch 10/50\n",
      "\u001b[1m40/40\u001b[0m \u001b[32m━━━━━━━━━━━━━━━━━━━━\u001b[0m\u001b[37m\u001b[0m \u001b[1m0s\u001b[0m 466us/step - accuracy: 0.5881 - loss: 0.6790 - val_accuracy: 0.6006 - val_loss: 0.6745\n",
      "Epoch 11/50\n",
      "\u001b[1m40/40\u001b[0m \u001b[32m━━━━━━━━━━━━━━━━━━━━\u001b[0m\u001b[37m\u001b[0m \u001b[1m0s\u001b[0m 469us/step - accuracy: 0.5805 - loss: 0.6834 - val_accuracy: 0.5974 - val_loss: 0.6753\n",
      "Epoch 12/50\n",
      "\u001b[1m40/40\u001b[0m \u001b[32m━━━━━━━━━━━━━━━━━━━━\u001b[0m\u001b[37m\u001b[0m \u001b[1m0s\u001b[0m 485us/step - accuracy: 0.5870 - loss: 0.6791 - val_accuracy: 0.6006 - val_loss: 0.6725\n",
      "Epoch 13/50\n",
      "\u001b[1m40/40\u001b[0m \u001b[32m━━━━━━━━━━━━━━━━━━━━\u001b[0m\u001b[37m\u001b[0m \u001b[1m0s\u001b[0m 478us/step - accuracy: 0.5642 - loss: 0.6818 - val_accuracy: 0.6006 - val_loss: 0.6718\n",
      "Epoch 14/50\n",
      "\u001b[1m40/40\u001b[0m \u001b[32m━━━━━━━━━━━━━━━━━━━━\u001b[0m\u001b[37m\u001b[0m \u001b[1m0s\u001b[0m 470us/step - accuracy: 0.5785 - loss: 0.6786 - val_accuracy: 0.5751 - val_loss: 0.6730\n",
      "Epoch 15/50\n",
      "\u001b[1m40/40\u001b[0m \u001b[32m━━━━━━━━━━━━━━━━━━━━\u001b[0m\u001b[37m\u001b[0m \u001b[1m0s\u001b[0m 489us/step - accuracy: 0.5900 - loss: 0.6843 - val_accuracy: 0.5751 - val_loss: 0.6732\n",
      "Epoch 16/50\n",
      "\u001b[1m40/40\u001b[0m \u001b[32m━━━━━━━━━━━━━━━━━━━━\u001b[0m\u001b[37m\u001b[0m \u001b[1m0s\u001b[0m 463us/step - accuracy: 0.5717 - loss: 0.6836 - val_accuracy: 0.5942 - val_loss: 0.6707\n",
      "Epoch 17/50\n",
      "\u001b[1m40/40\u001b[0m \u001b[32m━━━━━━━━━━━━━━━━━━━━\u001b[0m\u001b[37m\u001b[0m \u001b[1m0s\u001b[0m 486us/step - accuracy: 0.5844 - loss: 0.6759 - val_accuracy: 0.5751 - val_loss: 0.6717\n",
      "Epoch 18/50\n",
      "\u001b[1m40/40\u001b[0m \u001b[32m━━━━━━━━━━━━━━━━━━━━\u001b[0m\u001b[37m\u001b[0m \u001b[1m0s\u001b[0m 489us/step - accuracy: 0.5693 - loss: 0.6793 - val_accuracy: 0.5942 - val_loss: 0.6710\n",
      "Epoch 19/50\n",
      "\u001b[1m40/40\u001b[0m \u001b[32m━━━━━━━━━━━━━━━━━━━━\u001b[0m\u001b[37m\u001b[0m \u001b[1m0s\u001b[0m 469us/step - accuracy: 0.5786 - loss: 0.6797 - val_accuracy: 0.5751 - val_loss: 0.6723\n",
      "Epoch 20/50\n",
      "\u001b[1m40/40\u001b[0m \u001b[32m━━━━━━━━━━━━━━━━━━━━\u001b[0m\u001b[37m\u001b[0m \u001b[1m0s\u001b[0m 487us/step - accuracy: 0.5841 - loss: 0.6766 - val_accuracy: 0.5751 - val_loss: 0.6721\n",
      "Epoch 21/50\n",
      "\u001b[1m40/40\u001b[0m \u001b[32m━━━━━━━━━━━━━━━━━━━━\u001b[0m\u001b[37m\u001b[0m \u001b[1m0s\u001b[0m 469us/step - accuracy: 0.5844 - loss: 0.6775 - val_accuracy: 0.5751 - val_loss: 0.6714\n",
      "Epoch 22/50\n",
      "\u001b[1m40/40\u001b[0m \u001b[32m━━━━━━━━━━━━━━━━━━━━\u001b[0m\u001b[37m\u001b[0m \u001b[1m0s\u001b[0m 471us/step - accuracy: 0.6011 - loss: 0.6669 - val_accuracy: 0.5751 - val_loss: 0.6715\n",
      "Epoch 23/50\n",
      "\u001b[1m40/40\u001b[0m \u001b[32m━━━━━━━━━━━━━━━━━━━━\u001b[0m\u001b[37m\u001b[0m \u001b[1m0s\u001b[0m 479us/step - accuracy: 0.5942 - loss: 0.6720 - val_accuracy: 0.5751 - val_loss: 0.6724\n",
      "Epoch 24/50\n",
      "\u001b[1m40/40\u001b[0m \u001b[32m━━━━━━━━━━━━━━━━━━━━\u001b[0m\u001b[37m\u001b[0m \u001b[1m0s\u001b[0m 455us/step - accuracy: 0.5877 - loss: 0.6783 - val_accuracy: 0.5751 - val_loss: 0.6712\n",
      "Epoch 25/50\n",
      "\u001b[1m40/40\u001b[0m \u001b[32m━━━━━━━━━━━━━━━━━━━━\u001b[0m\u001b[37m\u001b[0m \u001b[1m0s\u001b[0m 476us/step - accuracy: 0.5959 - loss: 0.6746 - val_accuracy: 0.5751 - val_loss: 0.6707\n",
      "Epoch 26/50\n",
      "\u001b[1m40/40\u001b[0m \u001b[32m━━━━━━━━━━━━━━━━━━━━\u001b[0m\u001b[37m\u001b[0m \u001b[1m0s\u001b[0m 477us/step - accuracy: 0.5645 - loss: 0.6859 - val_accuracy: 0.5751 - val_loss: 0.6715\n",
      "Epoch 27/50\n",
      "\u001b[1m40/40\u001b[0m \u001b[32m━━━━━━━━━━━━━━━━━━━━\u001b[0m\u001b[37m\u001b[0m \u001b[1m0s\u001b[0m 478us/step - accuracy: 0.6033 - loss: 0.6750 - val_accuracy: 0.5751 - val_loss: 0.6715\n",
      "Epoch 28/50\n",
      "\u001b[1m40/40\u001b[0m \u001b[32m━━━━━━━━━━━━━━━━━━━━\u001b[0m\u001b[37m\u001b[0m \u001b[1m0s\u001b[0m 482us/step - accuracy: 0.5881 - loss: 0.6788 - val_accuracy: 0.5751 - val_loss: 0.6699\n",
      "Epoch 29/50\n",
      "\u001b[1m40/40\u001b[0m \u001b[32m━━━━━━━━━━━━━━━━━━━━\u001b[0m\u001b[37m\u001b[0m \u001b[1m0s\u001b[0m 477us/step - accuracy: 0.5884 - loss: 0.6701 - val_accuracy: 0.5751 - val_loss: 0.6738\n",
      "Epoch 30/50\n",
      "\u001b[1m40/40\u001b[0m \u001b[32m━━━━━━━━━━━━━━━━━━━━\u001b[0m\u001b[37m\u001b[0m \u001b[1m0s\u001b[0m 498us/step - accuracy: 0.5853 - loss: 0.6764 - val_accuracy: 0.5751 - val_loss: 0.6720\n",
      "Epoch 31/50\n",
      "\u001b[1m40/40\u001b[0m \u001b[32m━━━━━━━━━━━━━━━━━━━━\u001b[0m\u001b[37m\u001b[0m \u001b[1m0s\u001b[0m 511us/step - accuracy: 0.5873 - loss: 0.6762 - val_accuracy: 0.5751 - val_loss: 0.6732\n",
      "Epoch 32/50\n",
      "\u001b[1m40/40\u001b[0m \u001b[32m━━━━━━━━━━━━━━━━━━━━\u001b[0m\u001b[37m\u001b[0m \u001b[1m0s\u001b[0m 509us/step - accuracy: 0.6015 - loss: 0.6677 - val_accuracy: 0.5751 - val_loss: 0.6723\n",
      "Epoch 33/50\n",
      "\u001b[1m40/40\u001b[0m \u001b[32m━━━━━━━━━━━━━━━━━━━━\u001b[0m\u001b[37m\u001b[0m \u001b[1m0s\u001b[0m 1ms/step - accuracy: 0.5630 - loss: 0.6856 - val_accuracy: 0.5751 - val_loss: 0.6709\n",
      "Epoch 34/50\n",
      "\u001b[1m40/40\u001b[0m \u001b[32m━━━━━━━━━━━━━━━━━━━━\u001b[0m\u001b[37m\u001b[0m \u001b[1m0s\u001b[0m 487us/step - accuracy: 0.5806 - loss: 0.6785 - val_accuracy: 0.5751 - val_loss: 0.6703\n",
      "Epoch 35/50\n",
      "\u001b[1m40/40\u001b[0m \u001b[32m━━━━━━━━━━━━━━━━━━━━\u001b[0m\u001b[37m\u001b[0m \u001b[1m0s\u001b[0m 510us/step - accuracy: 0.5726 - loss: 0.6770 - val_accuracy: 0.5751 - val_loss: 0.6710\n",
      "Epoch 36/50\n",
      "\u001b[1m40/40\u001b[0m \u001b[32m━━━━━━━━━━━━━━━━━━━━\u001b[0m\u001b[37m\u001b[0m \u001b[1m0s\u001b[0m 506us/step - accuracy: 0.5858 - loss: 0.6730 - val_accuracy: 0.5751 - val_loss: 0.6716\n",
      "Epoch 37/50\n",
      "\u001b[1m40/40\u001b[0m \u001b[32m━━━━━━━━━━━━━━━━━━━━\u001b[0m\u001b[37m\u001b[0m \u001b[1m0s\u001b[0m 484us/step - accuracy: 0.5836 - loss: 0.6777 - val_accuracy: 0.5751 - val_loss: 0.6729\n",
      "Epoch 38/50\n",
      "\u001b[1m40/40\u001b[0m \u001b[32m━━━━━━━━━━━━━━━━━━━━\u001b[0m\u001b[37m\u001b[0m \u001b[1m0s\u001b[0m 490us/step - accuracy: 0.5990 - loss: 0.6675 - val_accuracy: 0.5751 - val_loss: 0.6719\n",
      "Epoch 39/50\n",
      "\u001b[1m40/40\u001b[0m \u001b[32m━━━━━━━━━━━━━━━━━━━━\u001b[0m\u001b[37m\u001b[0m \u001b[1m0s\u001b[0m 499us/step - accuracy: 0.5825 - loss: 0.6733 - val_accuracy: 0.5751 - val_loss: 0.6724\n",
      "Epoch 40/50\n",
      "\u001b[1m40/40\u001b[0m \u001b[32m━━━━━━━━━━━━━━━━━━━━\u001b[0m\u001b[37m\u001b[0m \u001b[1m0s\u001b[0m 469us/step - accuracy: 0.5998 - loss: 0.6707 - val_accuracy: 0.5751 - val_loss: 0.6724\n",
      "Epoch 41/50\n",
      "\u001b[1m40/40\u001b[0m \u001b[32m━━━━━━━━━━━━━━━━━━━━\u001b[0m\u001b[37m\u001b[0m \u001b[1m0s\u001b[0m 484us/step - accuracy: 0.5870 - loss: 0.6705 - val_accuracy: 0.5751 - val_loss: 0.6719\n",
      "Epoch 42/50\n",
      "\u001b[1m40/40\u001b[0m \u001b[32m━━━━━━━━━━━━━━━━━━━━\u001b[0m\u001b[37m\u001b[0m \u001b[1m0s\u001b[0m 491us/step - accuracy: 0.5955 - loss: 0.6687 - val_accuracy: 0.5751 - val_loss: 0.6723\n",
      "Epoch 43/50\n",
      "\u001b[1m40/40\u001b[0m \u001b[32m━━━━━━━━━━━━━━━━━━━━\u001b[0m\u001b[37m\u001b[0m \u001b[1m0s\u001b[0m 487us/step - accuracy: 0.5795 - loss: 0.6791 - val_accuracy: 0.5751 - val_loss: 0.6706\n",
      "Epoch 44/50\n",
      "\u001b[1m40/40\u001b[0m \u001b[32m━━━━━━━━━━━━━━━━━━━━\u001b[0m\u001b[37m\u001b[0m \u001b[1m0s\u001b[0m 493us/step - accuracy: 0.5785 - loss: 0.6755 - val_accuracy: 0.5751 - val_loss: 0.6720\n",
      "Epoch 45/50\n",
      "\u001b[1m40/40\u001b[0m \u001b[32m━━━━━━━━━━━━━━━━━━━━\u001b[0m\u001b[37m\u001b[0m \u001b[1m0s\u001b[0m 468us/step - accuracy: 0.5956 - loss: 0.6784 - val_accuracy: 0.5751 - val_loss: 0.6713\n",
      "Epoch 46/50\n",
      "\u001b[1m40/40\u001b[0m \u001b[32m━━━━━━━━━━━━━━━━━━━━\u001b[0m\u001b[37m\u001b[0m \u001b[1m0s\u001b[0m 472us/step - accuracy: 0.5656 - loss: 0.6784 - val_accuracy: 0.5751 - val_loss: 0.6715\n",
      "Epoch 47/50\n",
      "\u001b[1m40/40\u001b[0m \u001b[32m━━━━━━━━━━━━━━━━━━━━\u001b[0m\u001b[37m\u001b[0m \u001b[1m0s\u001b[0m 484us/step - accuracy: 0.5926 - loss: 0.6711 - val_accuracy: 0.5751 - val_loss: 0.6725\n",
      "Epoch 48/50\n",
      "\u001b[1m40/40\u001b[0m \u001b[32m━━━━━━━━━━━━━━━━━━━━\u001b[0m\u001b[37m\u001b[0m \u001b[1m0s\u001b[0m 453us/step - accuracy: 0.5779 - loss: 0.6781 - val_accuracy: 0.5751 - val_loss: 0.6721\n",
      "Epoch 49/50\n",
      "\u001b[1m40/40\u001b[0m \u001b[32m━━━━━━━━━━━━━━━━━━━━\u001b[0m\u001b[37m\u001b[0m \u001b[1m0s\u001b[0m 484us/step - accuracy: 0.5770 - loss: 0.6788 - val_accuracy: 0.5751 - val_loss: 0.6733\n",
      "Epoch 50/50\n",
      "\u001b[1m40/40\u001b[0m \u001b[32m━━━━━━━━━━━━━━━━━━━━\u001b[0m\u001b[37m\u001b[0m \u001b[1m0s\u001b[0m 495us/step - accuracy: 0.5729 - loss: 0.6755 - val_accuracy: 0.5751 - val_loss: 0.6710\n",
      "\u001b[1m10/10\u001b[0m \u001b[32m━━━━━━━━━━━━━━━━━━━━\u001b[0m\u001b[37m\u001b[0m \u001b[1m0s\u001b[0m 265us/step - accuracy: 0.5524 - loss: 0.6776\n",
      "Test Accuracy with Balanced Data: 0.5751\n"
     ]
    }
   ],
   "source": [
    "# Build the model\n",
    "model_balanced = Sequential([\n",
    "    Input(shape=(1,)),\n",
    "    Dense(16),\n",
    "    LeakyReLU(alpha=0.01),\n",
    "    Dense(8),\n",
    "    LeakyReLU(alpha=0.01),\n",
    "    Dense(2, activation='softmax')\n",
    "])\n",
    "\n",
    "# Compile the model\n",
    "model_balanced.compile(optimizer='adam', loss='categorical_crossentropy', metrics=['accuracy'])\n",
    "\n",
    "# Define the sampling strategy to control the amount of resampling\n",
    "sampling_strategy = 'minority'  \n",
    "\n",
    "# Apply SMOTE to balance the training data with adjustable parameters\n",
    "smote = SMOTE(\n",
    "    sampling_strategy=sampling_strategy,\n",
    "    k_neighbors=4,  # Adjust the number of neighbors for SMOTE\n",
    "    random_state=42\n",
    ")\n",
    "X_train_balanced_smote, y_train_balanced_smote = smote.fit_resample(X_train_balanced_scaled, np.argmax(y_train_balanced, axis=1))\n",
    "\n",
    "# Convert y_train_balanced_smote to one-hot encoding\n",
    "y_train_balanced_smote_encoded = tf.keras.utils.to_categorical(y_train_balanced_smote)\n",
    "\n",
    "# Train the model with the resampled data\n",
    "history_balanced = model_balanced.fit(\n",
    "    X_train_balanced_smote, y_train_balanced_smote_encoded,\n",
    "    epochs=50,\n",
    "    batch_size=32,\n",
    "    validation_data=(X_test_balanced_scaled, y_test_balanced),\n",
    "    class_weight=class_weight_dict\n",
    ")\n",
    "\n",
    "# Evaluate the model\n",
    "test_loss_balanced, test_accuracy_balanced = model_balanced.evaluate(X_test_balanced_scaled, y_test_balanced)\n",
    "print(f'Test Accuracy with Balanced Data: {test_accuracy_balanced:.4f}')"
   ]
  },
  {
   "cell_type": "markdown",
   "id": "5e3d3897",
   "metadata": {},
   "source": [
    "## Step 4: Visualization"
   ]
  },
  {
   "cell_type": "code",
   "execution_count": 5,
   "id": "49d8b0e9",
   "metadata": {},
   "outputs": [
    {
     "name": "stdout",
     "output_type": "stream",
     "text": [
      "\u001b[1m10/10\u001b[0m \u001b[32m━━━━━━━━━━━━━━━━━━━━\u001b[0m\u001b[37m\u001b[0m \u001b[1m0s\u001b[0m 1ms/step \n"
     ]
    },
    {
     "data": {
      "image/png": "[encoded data removed]",
      "text/plain": [
       "<Figure size 640x480 with 1 Axes>"
      ]
     },
     "metadata": {},
     "output_type": "display_data"
    },
    {
     "data": {
      "text/html": [
       "<pre style=\"white-space:pre;overflow-x:auto;line-height:normal;font-family:Menlo,'DejaVu Sans Mono',consolas,'Courier New',monospace\"><span style=\"font-weight: bold\">Model: \"sequential\"</span>\n",
       "</pre>\n"
      ],
      "text/plain": [
       "\u001b[1mModel: \"sequential\"\u001b[0m\n"
      ]
     },
     "metadata": {},
     "output_type": "display_data"
    },
    {
     "data": {
      "text/html": [
       "<pre style=\"white-space:pre;overflow-x:auto;line-height:normal;font-family:Menlo,'DejaVu Sans Mono',consolas,'Courier New',monospace\">┏━━━━━━━━━━━━━━━━━━━━━━━━━━━━━━━━━┳━━━━━━━━━━━━━━━━━━━━━━━━┳━━━━━━━━━━━━━━━┓\n",
       "┃<span style=\"font-weight: bold\"> Layer (type)                    </span>┃<span style=\"font-weight: bold\"> Output Shape           </span>┃<span style=\"font-weight: bold\">       Param # </span>┃\n",
       "┡━━━━━━━━━━━━━━━━━━━━━━━━━━━━━━━━━╇━━━━━━━━━━━━━━━━━━━━━━━━╇━━━━━━━━━━━━━━━┩\n",
       "│ dense (<span style=\"color: #0087ff; text-decoration-color: #0087ff\">Dense</span>)                   │ (<span style=\"color: #00d7ff; text-decoration-color: #00d7ff\">None</span>, <span style=\"color: #00af00; text-decoration-color: #00af00\">16</span>)             │            <span style=\"color: #00af00; text-decoration-color: #00af00\">32</span> │\n",
       "├─────────────────────────────────┼────────────────────────┼───────────────┤\n",
       "│ leaky_re_lu (<span style=\"color: #0087ff; text-decoration-color: #0087ff\">LeakyReLU</span>)         │ (<span style=\"color: #00d7ff; text-decoration-color: #00d7ff\">None</span>, <span style=\"color: #00af00; text-decoration-color: #00af00\">16</span>)             │             <span style=\"color: #00af00; text-decoration-color: #00af00\">0</span> │\n",
       "├─────────────────────────────────┼────────────────────────┼───────────────┤\n",
       "│ dense_1 (<span style=\"color: #0087ff; text-decoration-color: #0087ff\">Dense</span>)                 │ (<span style=\"color: #00d7ff; text-decoration-color: #00d7ff\">None</span>, <span style=\"color: #00af00; text-decoration-color: #00af00\">8</span>)              │           <span style=\"color: #00af00; text-decoration-color: #00af00\">136</span> │\n",
       "├─────────────────────────────────┼────────────────────────┼───────────────┤\n",
       "│ leaky_re_lu_1 (<span style=\"color: #0087ff; text-decoration-color: #0087ff\">LeakyReLU</span>)       │ (<span style=\"color: #00d7ff; text-decoration-color: #00d7ff\">None</span>, <span style=\"color: #00af00; text-decoration-color: #00af00\">8</span>)              │             <span style=\"color: #00af00; text-decoration-color: #00af00\">0</span> │\n",
       "├─────────────────────────────────┼────────────────────────┼───────────────┤\n",
       "│ dense_2 (<span style=\"color: #0087ff; text-decoration-color: #0087ff\">Dense</span>)                 │ (<span style=\"color: #00d7ff; text-decoration-color: #00d7ff\">None</span>, <span style=\"color: #00af00; text-decoration-color: #00af00\">2</span>)              │            <span style=\"color: #00af00; text-decoration-color: #00af00\">18</span> │\n",
       "└─────────────────────────────────┴────────────────────────┴───────────────┘\n",
       "</pre>\n"
      ],
      "text/plain": [
       "┏━━━━━━━━━━━━━━━━━━━━━━━━━━━━━━━━━┳━━━━━━━━━━━━━━━━━━━━━━━━┳━━━━━━━━━━━━━━━┓\n",
       "┃\u001b[1m \u001b[0m\u001b[1mLayer (type)                   \u001b[0m\u001b[1m \u001b[0m┃\u001b[1m \u001b[0m\u001b[1mOutput Shape          \u001b[0m\u001b[1m \u001b[0m┃\u001b[1m \u001b[0m\u001b[1m      Param #\u001b[0m\u001b[1m \u001b[0m┃\n",
       "┡━━━━━━━━━━━━━━━━━━━━━━━━━━━━━━━━━╇━━━━━━━━━━━━━━━━━━━━━━━━╇━━━━━━━━━━━━━━━┩\n",
       "│ dense (\u001b[38;5;33mDense\u001b[0m)                   │ (\u001b[38;5;45mNone\u001b[0m, \u001b[38;5;34m16\u001b[0m)             │            \u001b[38;5;34m32\u001b[0m │\n",
       "├─────────────────────────────────┼────────────────────────┼───────────────┤\n",
       "│ leaky_re_lu (\u001b[38;5;33mLeakyReLU\u001b[0m)         │ (\u001b[38;5;45mNone\u001b[0m, \u001b[38;5;34m16\u001b[0m)             │             \u001b[38;5;34m0\u001b[0m │\n",
       "├─────────────────────────────────┼────────────────────────┼───────────────┤\n",
       "│ dense_1 (\u001b[38;5;33mDense\u001b[0m)                 │ (\u001b[38;5;45mNone\u001b[0m, \u001b[38;5;34m8\u001b[0m)              │           \u001b[38;5;34m136\u001b[0m │\n",
       "├─────────────────────────────────┼────────────────────────┼───────────────┤\n",
       "│ leaky_re_lu_1 (\u001b[38;5;33mLeakyReLU\u001b[0m)       │ (\u001b[38;5;45mNone\u001b[0m, \u001b[38;5;34m8\u001b[0m)              │             \u001b[38;5;34m0\u001b[0m │\n",
       "├─────────────────────────────────┼────────────────────────┼───────────────┤\n",
       "│ dense_2 (\u001b[38;5;33mDense\u001b[0m)                 │ (\u001b[38;5;45mNone\u001b[0m, \u001b[38;5;34m2\u001b[0m)              │            \u001b[38;5;34m18\u001b[0m │\n",
       "└─────────────────────────────────┴────────────────────────┴───────────────┘\n"
      ]
     },
     "metadata": {},
     "output_type": "display_data"
    },
    {
     "data": {
      "text/html": [
       "<pre style=\"white-space:pre;overflow-x:auto;line-height:normal;font-family:Menlo,'DejaVu Sans Mono',consolas,'Courier New',monospace\"><span style=\"font-weight: bold\"> Total params: </span><span style=\"color: #00af00; text-decoration-color: #00af00\">560</span> (2.19 KB)\n",
       "</pre>\n"
      ],
      "text/plain": [
       "\u001b[1m Total params: \u001b[0m\u001b[38;5;34m560\u001b[0m (2.19 KB)\n"
      ]
     },
     "metadata": {},
     "output_type": "display_data"
    },
    {
     "data": {
      "text/html": [
       "<pre style=\"white-space:pre;overflow-x:auto;line-height:normal;font-family:Menlo,'DejaVu Sans Mono',consolas,'Courier New',monospace\"><span style=\"font-weight: bold\"> Trainable params: </span><span style=\"color: #00af00; text-decoration-color: #00af00\">186</span> (744.00 B)\n",
       "</pre>\n"
      ],
      "text/plain": [
       "\u001b[1m Trainable params: \u001b[0m\u001b[38;5;34m186\u001b[0m (744.00 B)\n"
      ]
     },
     "metadata": {},
     "output_type": "display_data"
    },
    {
     "data": {
      "text/html": [
       "<pre style=\"white-space:pre;overflow-x:auto;line-height:normal;font-family:Menlo,'DejaVu Sans Mono',consolas,'Courier New',monospace\"><span style=\"font-weight: bold\"> Non-trainable params: </span><span style=\"color: #00af00; text-decoration-color: #00af00\">0</span> (0.00 B)\n",
       "</pre>\n"
      ],
      "text/plain": [
       "\u001b[1m Non-trainable params: \u001b[0m\u001b[38;5;34m0\u001b[0m (0.00 B)\n"
      ]
     },
     "metadata": {},
     "output_type": "display_data"
    },
    {
     "data": {
      "text/html": [
       "<pre style=\"white-space:pre;overflow-x:auto;line-height:normal;font-family:Menlo,'DejaVu Sans Mono',consolas,'Courier New',monospace\"><span style=\"font-weight: bold\"> Optimizer params: </span><span style=\"color: #00af00; text-decoration-color: #00af00\">374</span> (1.46 KB)\n",
       "</pre>\n"
      ],
      "text/plain": [
       "\u001b[1m Optimizer params: \u001b[0m\u001b[38;5;34m374\u001b[0m (1.46 KB)\n"
      ]
     },
     "metadata": {},
     "output_type": "display_data"
    },
    {
     "name": "stdout",
     "output_type": "stream",
     "text": [
      "Test Accuracy with Balanced Data: 0.5751\n"
     ]
    }
   ],
   "source": [
    "# Predict on the test set\n",
    "y_pred_balanced = model_balanced.predict(X_test_balanced_scaled)\n",
    "\n",
    "# Replace NaN values with zero (if any)\n",
    "y_pred_balanced = np.nan_to_num(y_pred_balanced)\n",
    "\n",
    "# Decode the one-hot encoded predictions\n",
    "y_pred_balanced_decoded = encoder.inverse_transform(y_pred_balanced)\n",
    "\n",
    "# Calculate the number of times each politician was predicted\n",
    "harris_count_balanced = (y_pred_balanced_decoded == 'Kamala Harris').sum()\n",
    "trump_count_balanced = (y_pred_balanced_decoded == 'Donald Trump').sum()\n",
    "\n",
    "# Plot the bar plot for balanced predictions\n",
    "fig, ax = plt.subplots()\n",
    "politicians = ['Kamala Harris', 'Donald Trump']\n",
    "counts = [harris_count_balanced, trump_count_balanced]\n",
    "bars = ax.bar(politicians, counts, color=['blue', 'red'])\n",
    "\n",
    "# Add text annotations\n",
    "for bar in bars:\n",
    "    yval = bar.get_height()\n",
    "    ax.text(bar.get_x() + bar.get_width()/2.0, yval, int(yval), va='bottom')  # va: vertical alignment\n",
    "\n",
    "# Add title and labels\n",
    "ax.set_title('Favorable Predictions Harris & Trump (Balanced Data)')\n",
    "ax.set_ylabel('Number of Predictions')\n",
    "ax.set_xlabel('Politician')\n",
    "plt.show()\n",
    "\n",
    "# Print the model summary\n",
    "model_balanced.summary()\n",
    "\n",
    "# Print the model accuracy\n",
    "print(f'Test Accuracy with Balanced Data: {test_accuracy_balanced:.4f}')"
   ]
  },
  {
   "cell_type": "markdown",
   "id": "3d4d0fd2",
   "metadata": {},
   "source": [
    "## Step 5: Inference"
   ]
  },
  {
   "cell_type": "code",
   "execution_count": 6,
   "id": "33f7a61d",
   "metadata": {},
   "outputs": [
    {
     "name": "stdout",
     "output_type": "stream",
     "text": [
      "Kamala Harris predictions: 153\n",
      "Donald Trump predictions: 160\n",
      "Ultimate Winner: Donald Trump\n"
     ]
    }
   ],
   "source": [
    "# Determine the ultimate winner\n",
    "ultimate_winner_balanced = 'Kamala Harris' if harris_count_balanced > trump_count_balanced else 'Donald Trump'\n",
    "\n",
    "# Print results\n",
    "print(f'Kamala Harris predictions: {harris_count_balanced}')\n",
    "print(f'Donald Trump predictions: {trump_count_balanced}')\n",
    "print(f'Ultimate Winner: {ultimate_winner_balanced}')"
   ]
  }
 ],
 "metadata": {
  "kaggle": {
   "accelerator": "none",
   "dataSources": [
    {
     "datasetId": 5332206,
     "sourceId": 8857531,
     "sourceType": "datasetVersion"
    }
   ],
   "dockerImageVersionId": 30732,
   "isGpuEnabled": false,
   "isInternetEnabled": true,
   "language": "python",
   "sourceType": "notebook"
  },
  "kernelspec": {
   "display_name": "Python 3",
   "language": "python",
   "name": "python3"
  },
  "language_info": {
   "codemirror_mode": {
    "name": "ipython",
    "version": 3
   },
   "file_extension": ".py",
   "mimetype": "text/x-python",
   "name": "python",
   "nbconvert_exporter": "python",
   "pygments_lexer": "ipython3",
   "version": "3.11.9"
  },
  "papermill": {
   "default_parameters": {},
   "duration": 7.942276,
   "end_time": "2024-07-07T00:38:12.409840",
   "environment_variables": {},
   "exception": null,
   "input_path": "__notebook__.ipynb",
   "output_path": "__notebook__.ipynb",
   "parameters": {},
   "start_time": "2024-07-07T00:38:04.467564",
   "version": "2.5.0"
  }
 },
 "nbformat": 4,
 "nbformat_minor": 5
}
